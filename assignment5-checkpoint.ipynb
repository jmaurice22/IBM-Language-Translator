{
 "cells": [
  {
   "cell_type": "code",
   "execution_count": 2,
   "id": "2df351f8",
   "metadata": {},
   "outputs": [
    {
     "name": "stdout",
     "output_type": "stream",
     "text": [
      "Welcome to the translator!\n",
      "\n",
      "Enter some text to be translated : \n",
      "hello\n",
      "\n",
      "What language should I translate to?\n",
      "1) Spanish\n",
      "2) French\n",
      "3) Japanese\n",
      "4) Dutch\n",
      "\n",
      "Enter a number: \n",
      "2\n",
      "\n",
      "Bonjour\n"
     ]
    }
   ],
   "source": [
    "import json\n",
    "from ibm_watson import LanguageTranslatorV3\n",
    "from ibm_cloud_sdk_core.authenticators import IAMAuthenticator\n",
    "\n",
    "authenticator = IAMAuthenticator('qUpz1wDCiTBs_ErB4HqdOjSjh3_YGuts_YD2TYW15FOu')\n",
    "language_translator = LanguageTranslatorV3(\n",
    "    version='2018-05-01',\n",
    "    authenticator=authenticator\n",
    ")\n",
    "\n",
    "language_translator.set_service_url(\"https://api.us-south.language-translator.watson.cloud.ibm.com/instances/baa9a509-a5c5-4fd4-a0cd-09fd6baffc64\")\n",
    "print(\"Welcome to the translator!\\n\")\n",
    "user_input = input(\"Enter some text to be translated : \\n\")\n",
    "print(\"\")\n",
    "print(\"What language should I translate to?\")\n",
    "print(\"1) Spanish\")\n",
    "print(\"2) French\")\n",
    "print(\"3) Japanese\")\n",
    "print(\"4) Dutch\\n\")\n",
    "\n",
    "lang_translation = int(input(\"Enter a number: \\n\"))\n",
    "model = ''\n",
    "if lang_translation == 1:\n",
    "    model = 'en-es'\n",
    "elif lang_translation == 2:\n",
    "    model = 'en-fr'\n",
    "elif lang_translation == 3:\n",
    "    model = 'en-ja'\n",
    "else:\n",
    "    model = 'en-nl'\n",
    "\n",
    "translation = language_translator.translate(\n",
    "        text = user_input,\n",
    "        model_id=model\n",
    "    ).get_result()\n",
    "\n",
    "language = language_translator.identify(user_input).get_result()\n",
    "dictioinary = (language['languages'])\n",
    "for x in dictioinary:\n",
    "    if x['confidence'] > 0.95:\n",
    "        print(\"Confidence level is \", x['confidence'])\n",
    "        \n",
    "# print(json.dumps(translation, indent=2, ensure_ascii=False))\n",
    "x = (translation['translations'])\n",
    "print(\"\")\n",
    "print(x[0]['translation'])\n"
   ]
  },
  {
   "cell_type": "code",
   "execution_count": null,
   "id": "8b4ae069",
   "metadata": {},
   "outputs": [],
   "source": []
  },
  {
   "cell_type": "code",
   "execution_count": null,
   "id": "0959b807",
   "metadata": {},
   "outputs": [],
   "source": []
  }
 ],
 "metadata": {
  "kernelspec": {
   "display_name": "Python 3",
   "language": "python",
   "name": "python3"
  },
  "language_info": {
   "codemirror_mode": {
    "name": "ipython",
    "version": 3
   },
   "file_extension": ".py",
   "mimetype": "text/x-python",
   "name": "python",
   "nbconvert_exporter": "python",
   "pygments_lexer": "ipython3",
   "version": "3.8.8"
  }
 },
 "nbformat": 4,
 "nbformat_minor": 5
}
